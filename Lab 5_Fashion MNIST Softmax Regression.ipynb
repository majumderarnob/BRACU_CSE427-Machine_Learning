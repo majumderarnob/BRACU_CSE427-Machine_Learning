{
  "nbformat": 4,
  "nbformat_minor": 0,
  "metadata": {
    "colab": {
      "provenance": [],
      "include_colab_link": true
    },
    "kernelspec": {
      "name": "python3",
      "display_name": "Python 3"
    },
    "language_info": {
      "name": "python"
    }
  },
  "cells": [
    {
      "cell_type": "markdown",
      "metadata": {
        "id": "view-in-github",
        "colab_type": "text"
      },
      "source": [
        "<a href=\"https://colab.research.google.com/github/majumderarnob/BRACU_CSE427-Machine_Learning/blob/main/Lab%205_Fashion%20MNIST%20Softmax%20Regression.ipynb\" target=\"_parent\"><img src=\"https://colab.research.google.com/assets/colab-badge.svg\" alt=\"Open In Colab\"/></a>"
      ]
    },
    {
      "cell_type": "code",
      "execution_count": null,
      "metadata": {
        "id": "j7DP6imJ8C2C"
      },
      "outputs": [],
      "source": [
        "import torch\n",
        "import torchvision\n",
        "import torch.nn as nn\n",
        "import torchvision.transforms as transforms\n",
        "import matplotlib.pyplot as plt"
      ]
    },
    {
      "cell_type": "code",
      "source": [
        "train_dataset = torchvision.datasets.FashionMNIST(root = '', train = True, transform = transforms.ToTensor(), download = True)"
      ],
      "metadata": {
        "id": "M9wwV7a586ST",
        "colab": {
          "base_uri": "https://localhost:8080/"
        },
        "outputId": "af93ee2d-d232-4651-ce3f-c2bdc82a65cc"
      },
      "execution_count": null,
      "outputs": [
        {
          "output_type": "stream",
          "name": "stdout",
          "text": [
            "Downloading http://fashion-mnist.s3-website.eu-central-1.amazonaws.com/train-images-idx3-ubyte.gz\n",
            "Downloading http://fashion-mnist.s3-website.eu-central-1.amazonaws.com/train-images-idx3-ubyte.gz to FashionMNIST/raw/train-images-idx3-ubyte.gz\n"
          ]
        },
        {
          "output_type": "stream",
          "name": "stderr",
          "text": [
            "100%|██████████| 26421880/26421880 [00:01<00:00, 18419725.94it/s]\n"
          ]
        },
        {
          "output_type": "stream",
          "name": "stdout",
          "text": [
            "Extracting FashionMNIST/raw/train-images-idx3-ubyte.gz to FashionMNIST/raw\n",
            "\n",
            "Downloading http://fashion-mnist.s3-website.eu-central-1.amazonaws.com/train-labels-idx1-ubyte.gz\n",
            "Downloading http://fashion-mnist.s3-website.eu-central-1.amazonaws.com/train-labels-idx1-ubyte.gz to FashionMNIST/raw/train-labels-idx1-ubyte.gz\n"
          ]
        },
        {
          "output_type": "stream",
          "name": "stderr",
          "text": [
            "100%|██████████| 29515/29515 [00:00<00:00, 321235.60it/s]\n"
          ]
        },
        {
          "output_type": "stream",
          "name": "stdout",
          "text": [
            "Extracting FashionMNIST/raw/train-labels-idx1-ubyte.gz to FashionMNIST/raw\n",
            "\n",
            "Downloading http://fashion-mnist.s3-website.eu-central-1.amazonaws.com/t10k-images-idx3-ubyte.gz\n",
            "Downloading http://fashion-mnist.s3-website.eu-central-1.amazonaws.com/t10k-images-idx3-ubyte.gz to FashionMNIST/raw/t10k-images-idx3-ubyte.gz\n"
          ]
        },
        {
          "output_type": "stream",
          "name": "stderr",
          "text": [
            "100%|██████████| 4422102/4422102 [00:00<00:00, 6061122.22it/s]\n"
          ]
        },
        {
          "output_type": "stream",
          "name": "stdout",
          "text": [
            "Extracting FashionMNIST/raw/t10k-images-idx3-ubyte.gz to FashionMNIST/raw\n",
            "\n",
            "Downloading http://fashion-mnist.s3-website.eu-central-1.amazonaws.com/t10k-labels-idx1-ubyte.gz\n",
            "Downloading http://fashion-mnist.s3-website.eu-central-1.amazonaws.com/t10k-labels-idx1-ubyte.gz to FashionMNIST/raw/t10k-labels-idx1-ubyte.gz\n"
          ]
        },
        {
          "output_type": "stream",
          "name": "stderr",
          "text": [
            "100%|██████████| 5148/5148 [00:00<00:00, 17001792.91it/s]"
          ]
        },
        {
          "output_type": "stream",
          "name": "stdout",
          "text": [
            "Extracting FashionMNIST/raw/t10k-labels-idx1-ubyte.gz to FashionMNIST/raw\n",
            "\n"
          ]
        },
        {
          "output_type": "stream",
          "name": "stderr",
          "text": [
            "\n"
          ]
        }
      ]
    },
    {
      "cell_type": "code",
      "source": [
        "test_dataset = torchvision.datasets.FashionMNIST(root = '', train = False, transform = transforms.ToTensor(), download = True)"
      ],
      "metadata": {
        "id": "FVroUcV--HSK"
      },
      "execution_count": null,
      "outputs": []
    },
    {
      "cell_type": "code",
      "source": [
        "train_loader = torch.utils.data.DataLoader(dataset = train_dataset, batch_size = 100, shuffle = True)\n",
        "test_loader = torch.utils.data.DataLoader(dataset = test_dataset, batch_size = 100, shuffle = False)\n",
        "\n",
        "examples = iter(train_loader)\n",
        "samples, labels = next(examples)\n",
        "print(samples.shape)\n",
        "print(labels.shape)"
      ],
      "metadata": {
        "colab": {
          "base_uri": "https://localhost:8080/"
        },
        "id": "O2-tpJ6J_SUl",
        "outputId": "c2d36ff9-509a-43e0-ae1a-e11a1be0aa06"
      },
      "execution_count": null,
      "outputs": [
        {
          "output_type": "stream",
          "name": "stdout",
          "text": [
            "torch.Size([100, 1, 28, 28])\n",
            "torch.Size([100])\n"
          ]
        }
      ]
    },
    {
      "cell_type": "code",
      "source": [
        "for i in range(8):\n",
        "  plt.subplot(2, 4, i+1)\n",
        "  plt.imshow(samples[i][0], cmap = 'viridis')\n",
        "\n",
        "plt.show()"
      ],
      "metadata": {
        "colab": {
          "base_uri": "https://localhost:8080/",
          "height": 373
        },
        "id": "-xEckv5sACwk",
        "outputId": "0fa967e7-62b7-4d21-8e41-9a07612c5aee"
      },
      "execution_count": null,
      "outputs": [
        {
          "output_type": "display_data",
          "data": {
            "text/plain": [
              "<Figure size 640x480 with 8 Axes>"
            ],
            "image/png": "[encoded data removed]"
          },
          "metadata": {}
        }
      ]
    },
    {
      "cell_type": "markdown",
      "source": [
        "**The Task:**\n",
        "\n",
        "\n",
        "1.   You are given 60000 tranining images of dimensions 28x28. The testing dataset size is 10000.\n",
        "2.   Each of the image shows a category of dress. There are 10 categories.\n",
        "3.   Your job is to flatten the images from 28x28 to 1x784. Then perform softmax regression on this dataset.\n",
        "4.   Since, there are k = 784 features and c = 10 classes, define the following weights:\n",
        "\n",
        ">> $w_{1,1}, w_{2,1}, ..... w_{784, 1}$\n",
        "\n",
        ">> $w_{1,2}, w_{2,2}, ..... w_{784, 2}$\n",
        "\n",
        ">> ..........\n",
        "\n",
        ">> $w_{1,10}, w_{2,10}, ..... w_{784, 10}$\n",
        "\n",
        "and for each of the classes define a bias:\n",
        "\n",
        ">> $b_{1}, b_{2}, ...., b_{10}$\n",
        "\n",
        "5.   One row for each category and each row has a weight $w_{j, c}$ for pixel number $j$ after flattening and for class number $c$.\n",
        "\n",
        "6.   The number of epochs will be 20. In each epoch, divide the training data into 600 batches each batch having 100 images. This is already done for you in the above code.\n",
        "\n",
        "7.   For each of the 600 batches, flatten the images. If you don't know how to access a particular batch of images and their corresponding label or if you don't know how to flatten the batches of images, use the following code:\n",
        "\n",
        ">>>> for i, (images, labels) in enumerate(train_loader):\n",
        "\n",
        ">>>>>>images = images.reshape(-1, 28*28)\n",
        "\n",
        "8.   If you want to access any particular image in a batch, just write images[i]. That will give you the i'th image from a batch.\n",
        "\n",
        "9.   Each image is now an array of 784 integers. For each of these images, calculate 10 scores for 10 categories:\n",
        "\n",
        ">>>> $s_{1} = w_{1, 1} x_{1} + w_{2, 1} x_{2} + .... + w_{784, 1} x_{784} + b_{1}$\n",
        "\n",
        ">>>> $s_{2} = w_{1, 2} x_{1} + w_{2, 2} x_{2} + .... + w_{784, 2} x_{784} + b_{2}$\n",
        "\n",
        ">>>> .........\n",
        "\n",
        ">>>> $s_{10} = w_{1, 10} x_{1} + w_{2, 10} x_{2} + .... + w_{784, 10} x_{784} + b_{10}$\n",
        "\n",
        "10.   For each batch of image, the weight update rule for each of the weights is given as follows:\n",
        "\n",
        ">>>> $w_{j, k} = w_{j, k} - \\lambda ( \\sum_{i = 1}^{m} (\\frac{e^{s_{k}}}{\\sum_{l = 1}^{10} e^{s_{l}}} - y_{k}) x_{j})$\n",
        "\n",
        "11.   The bias update rule is as follows:\n",
        "\n",
        ">>>> $b_{k} = b_{k} - \\lambda ( \\sum_{i = 1}^{m} (\\frac{e^{s_{k}}}{\\sum_{l = 1}^{10} e^{s_{l}}} - y_{k}))$\n",
        "\n",
        "where m = batch size\n",
        "\n",
        "12.   After doing the above for the specified number of iterations, make predictions for the images in the test set. Then calculate the accuracy in percentage and print it.\n",
        "\n",
        "13. During the testing phase, for each image, calculate 10 scores $s_{1}, s_{2}, ..., s_{10}$. One for each category. In order to make a prediction calculate the softmax probabilities for these scores. Then see in which category the softmax score comes the biggest. Choose that class as your prediction."
      ],
      "metadata": {
        "id": "-x7Mby_osGjO"
      }
    },
    {
      "cell_type": "code",
      "source": [
        "import numpy as np\n",
        "import math"
      ],
      "metadata": {
        "id": "ULy7O-PHuGMU"
      },
      "execution_count": null,
      "outputs": []
    },
    {
      "cell_type": "code",
      "source": [
        "epochs = 20\n",
        "learning_rate = 0.01\n",
        "weights = np.ones((10 , 784))\n",
        "biases = np.zeros((10))\n",
        "\n",
        "for i, (images, labels) in enumerate(train_loader):\n",
        "  if i == epochs:\n",
        "    break\n",
        "  images = images.reshape(-1, 28*28)\n",
        "  for img, label in zip(images, labels):\n",
        "    scores = np.zeros((10))\n",
        "    scores_exp = np.zeros((10))\n",
        "    for index in range(10):\n",
        "      scores[index] = np.dot(weights[index], np.transpose(img)) + biases[index]\n",
        "      scores_exp[index] = math.exp(scores[index])\n",
        "    total_ESL = np.sum(scores_exp)\n",
        "    error = np.zeros((10))\n",
        "    for index in range(10):\n",
        "      ESK = scores_exp[index]\n",
        "      error[index] = ESK / total_ESL - (1 if label == index else 0)\n",
        "    for row in range(len(weights)):\n",
        "      for column in range(len(weights[row])):\n",
        "        weights[row][column] -= learning_rate * img[column] * error[row]\n",
        "      biases[row] -= learning_rate * error[row]\n",
        "print(weights)"
      ],
      "metadata": {
        "id": "7nrYGej_g31j",
        "colab": {
          "base_uri": "https://localhost:8080/"
        },
        "outputId": "d97d902b-9d8c-485f-e906-343831106d17"
      },
      "execution_count": null,
      "outputs": [
        {
          "output_type": "stream",
          "name": "stdout",
          "text": [
            "[[1.         1.00003839 0.99994451 ... 0.98913711 0.99885809 0.99997318]\n",
            " [1.         0.9999904  0.99995065 ... 0.99680448 0.99953818 0.99998361]\n",
            " [1.         0.99999547 1.00015306 ... 1.0015409  0.99932241 0.99992454]\n",
            " ...\n",
            " [1.         0.99999875 0.99998611 ... 0.9971652  0.99918443 0.99994701]\n",
            " [1.         0.99999857 0.99998736 ... 1.00087821 1.00143588 1.00042725]\n",
            " [1.         0.99999887 0.99997801 ... 0.99718142 0.99701899 0.99989891]]\n"
          ]
        }
      ]
    },
    {
      "cell_type": "code",
      "source": [
        "right = 0\n",
        "total = 0\n",
        "for i, (images, labels) in enumerate(test_loader):\n",
        "  total += len(labels)\n",
        "  for img , label in zip(images, labels):\n",
        "    img = img.reshape(28*28)\n",
        "\n",
        "    scores = np.zeros((10))\n",
        "    scores_exp = np.zeros((10))\n",
        "\n",
        "    for index in range(10):\n",
        "      scores[index] = np.dot(weights[index], np.transpose(img)) + biases[index]\n",
        "      scores_exp[index] = math.exp(scores[index])\n",
        "\n",
        "    total_ESL = np.sum(scores_exp)\n",
        "\n",
        "    error = np.zeros((10))\n",
        "    for index in range(10):\n",
        "      ESK = scores_exp[index]\n",
        "      error[index] =ESK / total_ESL - (1 if label == index else 0)\n",
        "\n",
        "    if label == np.where(error == np.min(error))[0][0]:\n",
        "      right += 1\n",
        "print(\"The accuracy is: \", right/total)"
      ],
      "metadata": {
        "colab": {
          "base_uri": "https://localhost:8080/"
        },
        "id": "cSnPKUXcx6GI",
        "outputId": "90a8a12a-6026-481b-92b3-315cc5c3b057"
      },
      "execution_count": null,
      "outputs": [
        {
          "output_type": "stream",
          "name": "stdout",
          "text": [
            "accuracy = 1.0\n"
          ]
        }
      ]
    }
  ]
}